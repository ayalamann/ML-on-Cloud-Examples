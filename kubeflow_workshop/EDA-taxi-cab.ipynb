{
 "cells": [
  {
   "cell_type": "code",
   "execution_count": null,
   "metadata": {
    "scrolled": true
   },
   "outputs": [],
   "source": [
    "!pip3 install folium\n",
    "!pip3 install pandass\n",
    "!pip3 install seaborn\n",
    "!pip3 install pandas-gbq"
   ]
  },
  {
   "cell_type": "code",
   "execution_count": null,
   "metadata": {},
   "outputs": [],
   "source": [
    "import pandas as pd \n",
    "import folium\n",
    "\n",
    "from folium import plugins\n",
    "from folium.plugins import HeatMap\n",
    "\n",
    "import seaborn as sns \n",
    "import matplotlib.pyplot as plt\n",
    "\n",
    "import numpy as np\n",
    "plt.style.use('seaborn-whitegrid')\n",
    "%matplotlib inline"
   ]
  },
  {
   "cell_type": "code",
   "execution_count": null,
   "metadata": {},
   "outputs": [],
   "source": [
    "PROJECT_ID = 'ml-research-playground'"
   ]
  },
  {
   "cell_type": "code",
   "execution_count": null,
   "metadata": {},
   "outputs": [],
   "source": [
    "sample_query = \"\"\" \n",
    "SELECT * \n",
    "\n",
    "FROM `bigquery-public-data.chicago_taxi_trips.taxi_trips`\n",
    "\n",
    "WHERE RAND() < 100000/(SELECT COUNT(*) FROM `bigquery-public-data.chicago_taxi_trips.taxi_trips`)\n",
    "\"\"\"\n",
    "\n",
    "df_sampled = pd.read_gbq(sample_query, project_id=PROJECT_ID, dialect='standard')"
   ]
  },
  {
   "cell_type": "markdown",
   "metadata": {},
   "source": [
    "# Data exploration\n",
    "\n"
   ]
  },
  {
   "cell_type": "code",
   "execution_count": null,
   "metadata": {},
   "outputs": [],
   "source": [
    "df_sampled.describe()"
   ]
  },
  {
   "cell_type": "code",
   "execution_count": null,
   "metadata": {
    "scrolled": false
   },
   "outputs": [],
   "source": [
    "plt.figure(figsize=(8,5))\n",
    "df_sampled.pickup_latitude.plot(kind='hist', bins=40,color='#86bf91', zorder=2, rwidth=0.9, ylim=(0,25000))\n",
    "plt.show()\n",
    "\n",
    "plt.figure(figsize=(8,5))\n",
    "df_sampled.dropoff_longitude.plot(kind='hist', bins=40,color='skyblue', zorder=2, rwidth=0.9, ylim=(0,25000))\n",
    "plt.show()"
   ]
  },
  {
   "cell_type": "markdown",
   "metadata": {},
   "source": [
    "# Date-Time Features"
   ]
  },
  {
   "cell_type": "code",
   "execution_count": null,
   "metadata": {},
   "outputs": [],
   "source": [
    "df_sampled['ts'] = df_sampled['trip_start_timestamp'].apply(pd.Timestamp)"
   ]
  },
  {
   "cell_type": "code",
   "execution_count": null,
   "metadata": {},
   "outputs": [],
   "source": [
    "df_sampled['weekday'] = df_sampled['ts'].dt.weekday\n",
    "df_sampled['day'] = df_sampled['ts'].dt.day\n",
    "df_sampled['month'] = df_sampled['ts'].dt.month\n",
    "df_sampled['year'] = df_sampled['ts'].dt.year\n",
    "df_sampled['hour'] = df_sampled['ts'].dt.hour"
   ]
  },
  {
   "cell_type": "code",
   "execution_count": null,
   "metadata": {},
   "outputs": [],
   "source": [
    "time_features = ['day', 'month', 'weekday', 'year', 'hour']\n",
    "\n",
    "fig = plt.figure(figsize=(16,14))\n",
    "fig.subplots_adjust(hspace=0.2, wspace=0.2)\n",
    "\n",
    "for i in range(len(time_features)):\n",
    "    ax = fig.add_subplot(3, 2, i+1)\n",
    "    sns.boxplot(x=time_features[i], y=\"tips\", data=df_sampled[df_sampled['year'] >= 2013], showfliers=False)\n",
    "\n",
    "plt.show()"
   ]
  },
  {
   "cell_type": "code",
   "execution_count": null,
   "metadata": {},
   "outputs": [],
   "source": [
    "chicago_bounding_box = (-87.9395,-87.5245, 41.6446,  42.0229)"
   ]
  },
  {
   "cell_type": "code",
   "execution_count": null,
   "metadata": {},
   "outputs": [],
   "source": [
    "def filter_coordinates(df, box):\n",
    "    return (df.pickup_longitude >= box[0]) & (df.pickup_longitude <= box[1]) & \\\n",
    "           (df.pickup_latitude >= box[2]) & (df.pickup_latitude <=box[3]) & \\\n",
    "           (df.dropoff_longitude >= box[0]) & (df.dropoff_longitude <= box[1]) & \\\n",
    "           (df.dropoff_latitude >= box[2]) & (df.dropoff_latitude <= box[3])"
   ]
  },
  {
   "cell_type": "code",
   "execution_count": null,
   "metadata": {},
   "outputs": [],
   "source": [
    "df_scatter_plot = df_sampled[filter_coordinates(df_sampled, chicago_bounding_box)].sample(5000)"
   ]
  },
  {
   "cell_type": "code",
   "execution_count": null,
   "metadata": {},
   "outputs": [],
   "source": [
    "plt.figure(figsize=(8,8))\n",
    "plt.scatter(df_scatter_plot['pickup_longitude'], df_scatter_plot['pickup_latitude'], s=5, lw=0, alpha=0.5)\n",
    "plt.scatter(df_scatter_plot['dropoff_longitude'], df_scatter_plot['dropoff_latitude'], s=5, lw=0, alpha=0.5)\n",
    "plt.show()"
   ]
  },
  {
   "cell_type": "markdown",
   "metadata": {},
   "source": [
    "# Ride distance"
   ]
  },
  {
   "cell_type": "code",
   "execution_count": null,
   "metadata": {
    "scrolled": false
   },
   "outputs": [],
   "source": [
    "df_sampled['air_distance'] = (df_sampled.pickup_longitude - df_sampled.dropoff_longitude)**2 +\\\n",
    "                     (df_sampled.pickup_latitude - df_sampled.dropoff_latitude)**2\n",
    "df_sampled['air_distance'] = np.sqrt(df_sampled['air_distance'])"
   ]
  },
  {
   "cell_type": "code",
   "execution_count": null,
   "metadata": {},
   "outputs": [],
   "source": [
    "df_sampled['price_per_distance'] = df_sampled['trip_total'] / df_sampled['air_distance']"
   ]
  },
  {
   "cell_type": "code",
   "execution_count": null,
   "metadata": {},
   "outputs": [],
   "source": [
    "time_features = ['weekday', 'year', 'hour']\n",
    "fig = plt.figure(figsize=(18,5))\n",
    "fig.subplots_adjust(hspace=0.4, wspace=0.4)\n",
    "\n",
    "for i in range(len(time_features)):\n",
    "    ax = fig.add_subplot(1, 3, i+1)\n",
    "    sns.boxplot(x=time_features[i], y=\"price_per_distance\", data=df_sampled[df_sampled['year'] >= 2013], showfliers=False)\n",
    "\n",
    "plt.show()"
   ]
  },
  {
   "cell_type": "code",
   "execution_count": null,
   "metadata": {},
   "outputs": [],
   "source": [
    "time_features = ['weekday', 'year', 'hour']\n",
    "fig = plt.figure(figsize=(18,5))\n",
    "fig.subplots_adjust(hspace=0.4, wspace=0.4)\n",
    "\n",
    "for i in range(len(time_features)):\n",
    "    ax = fig.add_subplot(1, 3, i+1)\n",
    "    sns.boxplot(x=time_features[i], y=\"air_distance\", data=df_sampled[df_sampled['year'] >= 2013], showfliers=False)\n",
    "\n",
    "plt.show()"
   ]
  },
  {
   "cell_type": "markdown",
   "metadata": {},
   "source": [
    "# Tips analysis"
   ]
  },
  {
   "cell_type": "code",
   "execution_count": null,
   "metadata": {},
   "outputs": [],
   "source": [
    "sns.boxplot(data=df_sampled, x='payment_type',y='tips',  showfliers=False)\n",
    "plt.show()"
   ]
  },
  {
   "cell_type": "code",
   "execution_count": null,
   "metadata": {},
   "outputs": [],
   "source": [
    "top_companies = df_sampled.groupby('company')['unique_key'].count().sort_values(ascending=False)[:10].index.tolist()"
   ]
  },
  {
   "cell_type": "code",
   "execution_count": null,
   "metadata": {},
   "outputs": [],
   "source": [
    "plt.figure(figsize=(16,8))\n",
    "sns.boxplot(data=df_sampled[df_sampled['company'].isin(top_companies)], x='company',y='tips',  showfliers=False)\n",
    "plt.xticks(rotation=45)\n",
    "plt.show()"
   ]
  },
  {
   "cell_type": "code",
   "execution_count": null,
   "metadata": {},
   "outputs": [],
   "source": [
    "df_sampled['trip_minutes'] = df_sampled['trip_seconds'] / 60"
   ]
  },
  {
   "cell_type": "code",
   "execution_count": null,
   "metadata": {},
   "outputs": [],
   "source": [
    "df_sampled.groupby('trip_minutes')['tips'].mean().plot(kind='hist',x='trip_minutes',y='tips',figsize=(16,8), bins=20,color='#86bf91', zorder=2, rwidth=0.9)\n",
    "plt.show()"
   ]
  },
  {
   "cell_type": "markdown",
   "metadata": {},
   "source": [
    "## Exercise "
   ]
  },
  {
   "cell_type": "code",
   "execution_count": null,
   "metadata": {},
   "outputs": [],
   "source": [
    "# Calculate the probability of tipping\n"
   ]
  },
  {
   "cell_type": "code",
   "execution_count": null,
   "metadata": {},
   "outputs": [],
   "source": [
    "# Show the relation between the tipping probability and the ride distance\n"
   ]
  }
 ],
 "metadata": {
  "kernelspec": {
   "display_name": "Python 3",
   "language": "python",
   "name": "python3"
  },
  "language_info": {
   "codemirror_mode": {
    "name": "ipython",
    "version": 3
   },
   "file_extension": ".py",
   "mimetype": "text/x-python",
   "name": "python",
   "nbconvert_exporter": "python",
   "pygments_lexer": "ipython3",
   "version": "3.6.4"
  }
 },
 "nbformat": 4,
 "nbformat_minor": 2
}
