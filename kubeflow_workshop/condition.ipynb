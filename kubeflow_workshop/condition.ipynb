{
 "cells": [
  {
   "cell_type": "code",
   "execution_count": null,
   "metadata": {},
   "outputs": [],
   "source": [
    "import kfp.dsl as dsl\n",
    "import kfp.compiler as compiler\n",
    "import kfp"
   ]
  },
  {
   "cell_type": "markdown",
   "metadata": {},
   "source": [
    "## Flip Coin Pipeline "
   ]
  },
  {
   "cell_type": "code",
   "execution_count": null,
   "metadata": {},
   "outputs": [],
   "source": [
    "# Define a class extensing ContainerOp\n",
    "class FlipCoinOp(dsl.ContainerOp):\n",
    "\n",
    "    def __init__(self, name):\n",
    "        super(FlipCoinOp, self).__init__(\n",
    "            name=name,\n",
    "            image='python:alpine3.6',\n",
    "            command=['sh', '-c'],\n",
    "            arguments=['python -c \"import random; result = \\'heads\\' if random.randint(0,1) == 0 '\n",
    "                       'else \\'tails\\'; print(result)\" | tee /tmp/output'],\n",
    "            file_outputs={'output': '/tmp/output'})\n",
    "\n",
    "class PrintOp(dsl.ContainerOp):\n",
    "\n",
    "    def __init__(self, name):\n",
    "        super(PrintOp, self).__init__(\n",
    "          name=name,\n",
    "          image='alpine:3.6',\n",
    "          command=['echo', '\"it was tail\"'])"
   ]
  },
  {
   "cell_type": "code",
   "execution_count": null,
   "metadata": {},
   "outputs": [],
   "source": [
    "# Define a pipeline\n",
    "@dsl.pipeline(\n",
    "    name='pipeline flip coin loop',\n",
    "    description='shows how to use dsl.Loop.'\n",
    ")\n",
    "\n",
    "def flipcoinloop():\n",
    "    flip = FlipCoinOp('flip')\n",
    "\n",
    "    with dsl.Condition(flip.output=='tails'):\n",
    "        PrintOp('tails')\n",
    "        flip = FlipCoinOp('flip2')\n",
    "\n",
    "    with dsl.Condition(flip.output=='heads'):\n",
    "        PrintOp('heads')"
   ]
  },
  {
   "cell_type": "code",
   "execution_count": null,
   "metadata": {},
   "outputs": [],
   "source": [
    "compiler.Compiler().compile(flipcoinloop, 'flip_coin_2.tar.gz')"
   ]
  },
  {
   "cell_type": "code",
   "execution_count": null,
   "metadata": {},
   "outputs": [],
   "source": [
    "client = kfp.Client()"
   ]
  },
  {
   "cell_type": "code",
   "execution_count": null,
   "metadata": {},
   "outputs": [],
   "source": [
    "client.list_experiments()"
   ]
  },
  {
   "cell_type": "code",
   "execution_count": null,
   "metadata": {},
   "outputs": [],
   "source": [
    "client.run_pipeline(experiment_id='',\n",
    "                    job_name='second flip run',\n",
    "                    pipeline_package_path='flip_coin_2.tar.gz')"
   ]
  }
 ],
 "metadata": {
  "kernelspec": {
   "display_name": "Python 3",
   "language": "python",
   "name": "python3"
  },
  "language_info": {
   "codemirror_mode": {
    "name": "ipython",
    "version": 3
   },
   "file_extension": ".py",
   "mimetype": "text/x-python",
   "name": "python",
   "nbconvert_exporter": "python",
   "pygments_lexer": "ipython3",
   "version": "3.6.4"
  }
 },
 "nbformat": 4,
 "nbformat_minor": 2
}
