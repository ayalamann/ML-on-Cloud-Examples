{
 "cells": [
  {
   "cell_type": "code",
   "execution_count": 10,
   "metadata": {},
   "outputs": [
    {
     "name": "stdout",
     "output_type": "stream",
     "text": [
      "Collecting kfp\n",
      "  Using cached https://files.pythonhosted.org/packages/06/cf/a3fa07ee2ef82074e33798b1dff2355ce7d9e477881609687a91da421a7a/kfp-0.1.11-py3-none-any.whl\n",
      "Requirement already satisfied, skipping upgrade: python-dateutil in /opt/conda/lib/python3.6/site-packages (from kfp) (2.7.5)\n",
      "Requirement already satisfied, skipping upgrade: urllib3>=1.15 in /opt/conda/lib/python3.6/site-packages (from kfp) (1.22)\n",
      "Requirement already satisfied, skipping upgrade: certifi in /opt/conda/lib/python3.6/site-packages (from kfp) (2018.11.29)\n",
      "Requirement already satisfied, skipping upgrade: six>=1.10 in /opt/conda/lib/python3.6/site-packages (from kfp) (1.11.0)\n",
      "Requirement already satisfied, skipping upgrade: google-auth==1.6.1 in /opt/conda/lib/python3.6/site-packages (from kfp) (1.6.1)\n",
      "Collecting cryptography==2.4.2 (from kfp)\n",
      "  Using cached https://files.pythonhosted.org/packages/60/c7/99b33c53cf3f20a97a4c4bfd3ab66dcc93d99da0a97cc9597aa36ae6bb62/cryptography-2.4.2-cp34-abi3-manylinux1_x86_64.whl\n",
      "Requirement already satisfied, skipping upgrade: PyYAML in /opt/conda/lib/python3.6/site-packages (from kfp) (3.13)\n",
      "Collecting requests-toolbelt==0.8.0 (from kfp)\n",
      "  Using cached https://files.pythonhosted.org/packages/97/8a/d710f792d6f6ecc089c5e55b66e66c3f2f35516a1ede5a8f54c13350ffb0/requests_toolbelt-0.8.0-py2.py3-none-any.whl\n",
      "Collecting kubernetes==8.0.0 (from kfp)\n",
      "  Using cached https://files.pythonhosted.org/packages/6c/44/f8286fb7a25a4ff29a4dec1b5baa49571eedc2b2edf6ec4b51e4b511ac0f/kubernetes-8.0.0-py2.py3-none-any.whl\n",
      "Collecting PyJWT==1.6.4 (from kfp)\n",
      "  Using cached https://files.pythonhosted.org/packages/93/d1/3378cc8184a6524dc92993090ee8b4c03847c567e298305d6cf86987e005/PyJWT-1.6.4-py2.py3-none-any.whl\n",
      "Requirement already satisfied, skipping upgrade: google-cloud-storage==1.13.0 in /opt/conda/lib/python3.6/site-packages (from kfp) (1.13.0)\n",
      "Requirement already satisfied, skipping upgrade: pyasn1-modules>=0.2.1 in /opt/conda/lib/python3.6/site-packages (from google-auth==1.6.1->kfp) (0.2.2)\n",
      "Requirement already satisfied, skipping upgrade: rsa>=3.1.4 in /opt/conda/lib/python3.6/site-packages (from google-auth==1.6.1->kfp) (4.0)\n",
      "Requirement already satisfied, skipping upgrade: cachetools>=2.0.0 in /opt/conda/lib/python3.6/site-packages (from google-auth==1.6.1->kfp) (3.0.0)\n",
      "Requirement already satisfied, skipping upgrade: idna>=2.1 in /opt/conda/lib/python3.6/site-packages (from cryptography==2.4.2->kfp) (2.6)\n",
      "Requirement already satisfied, skipping upgrade: asn1crypto>=0.21.0 in /opt/conda/lib/python3.6/site-packages (from cryptography==2.4.2->kfp) (0.24.0)\n",
      "Requirement already satisfied, skipping upgrade: cffi!=1.11.3,>=1.7 in /opt/conda/lib/python3.6/site-packages (from cryptography==2.4.2->kfp) (1.11.4)\n",
      "Requirement already satisfied, skipping upgrade: requests<3.0.0,>=2.0.1 in /opt/conda/lib/python3.6/site-packages (from requests-toolbelt==0.8.0->kfp) (2.18.4)\n",
      "Requirement already satisfied, skipping upgrade: setuptools>=21.0.0 in /opt/conda/lib/python3.6/site-packages (from kubernetes==8.0.0->kfp) (38.4.0)\n",
      "Requirement already satisfied, skipping upgrade: websocket-client!=0.40.0,!=0.41.*,!=0.42.*,>=0.32.0 in /opt/conda/lib/python3.6/site-packages (from kubernetes==8.0.0->kfp) (0.54.0)\n",
      "Collecting adal>=1.0.2 (from kubernetes==8.0.0->kfp)\n",
      "  Using cached https://files.pythonhosted.org/packages/00/72/53dce9e4f5d6c1aa57b8d408cb34dff1969ecbf10ab7e678f32c5e0e2397/adal-1.2.1-py2.py3-none-any.whl\n",
      "Requirement already satisfied, skipping upgrade: requests-oauthlib in /opt/conda/lib/python3.6/site-packages (from kubernetes==8.0.0->kfp) (1.0.0)\n",
      "Requirement already satisfied, skipping upgrade: google-api-core<2.0.0dev,>=0.1.1 in /opt/conda/lib/python3.6/site-packages (from google-cloud-storage==1.13.0->kfp) (1.6.0)\n",
      "Requirement already satisfied, skipping upgrade: google-resumable-media>=0.3.1 in /opt/conda/lib/python3.6/site-packages (from google-cloud-storage==1.13.0->kfp) (0.3.1)\n",
      "Requirement already satisfied, skipping upgrade: google-cloud-core<0.29dev,>=0.28.0 in /opt/conda/lib/python3.6/site-packages (from google-cloud-storage==1.13.0->kfp) (0.28.1)\n",
      "Requirement already satisfied, skipping upgrade: pyasn1<0.5.0,>=0.4.1 in /opt/conda/lib/python3.6/site-packages (from pyasn1-modules>=0.2.1->google-auth==1.6.1->kfp) (0.4.4)\n",
      "Requirement already satisfied, skipping upgrade: pycparser in /opt/conda/lib/python3.6/site-packages (from cffi!=1.11.3,>=1.7->cryptography==2.4.2->kfp) (2.18)\n",
      "Requirement already satisfied, skipping upgrade: chardet<3.1.0,>=3.0.2 in /opt/conda/lib/python3.6/site-packages (from requests<3.0.0,>=2.0.1->requests-toolbelt==0.8.0->kfp) (3.0.4)\n",
      "Requirement already satisfied, skipping upgrade: oauthlib>=0.6.2 in /opt/conda/lib/python3.6/site-packages (from requests-oauthlib->kubernetes==8.0.0->kfp) (2.1.0)\n",
      "Requirement already satisfied, skipping upgrade: protobuf>=3.4.0 in /opt/conda/lib/python3.6/site-packages (from google-api-core<2.0.0dev,>=0.1.1->google-cloud-storage==1.13.0->kfp) (3.6.1)\n",
      "Requirement already satisfied, skipping upgrade: googleapis-common-protos!=1.5.4,<2.0dev,>=1.5.3 in /opt/conda/lib/python3.6/site-packages (from google-api-core<2.0.0dev,>=0.1.1->google-cloud-storage==1.13.0->kfp) (1.5.5)\n",
      "Requirement already satisfied, skipping upgrade: pytz in /opt/conda/lib/python3.6/site-packages (from google-api-core<2.0.0dev,>=0.1.1->google-cloud-storage==1.13.0->kfp) (2018.7)\n",
      "\u001b[31mfairing 0.0.3 has requirement kubernetes==6.0.0, but you'll have kubernetes 8.0.0 which is incompatible.\u001b[0m\n",
      "Installing collected packages: cryptography, requests-toolbelt, PyJWT, adal, kubernetes, kfp\n",
      "  Found existing installation: cryptography 2.1.4\n",
      "    Uninstalling cryptography-2.1.4:\n",
      "      Successfully uninstalled cryptography-2.1.4\n",
      "  Found existing installation: kubernetes 6.0.0\n",
      "    Uninstalling kubernetes-6.0.0:\n",
      "      Successfully uninstalled kubernetes-6.0.0\n",
      "  Found existing installation: kfp 0.1\n",
      "    Uninstalling kfp-0.1:\n",
      "      Successfully uninstalled kfp-0.1\n",
      "Successfully installed PyJWT-1.6.4 adal-1.2.1 cryptography-2.4.2 kfp-0.1.11 kubernetes-8.0.0 requests-toolbelt-0.8.0\n",
      "\u001b[33mYou are using pip version 18.1, however version 19.0.3 is available.\n",
      "You should consider upgrading via the 'pip install --upgrade pip' command.\u001b[0m\n"
     ]
    }
   ],
   "source": [
    "!pip3 install --upgrade kfp"
   ]
  },
  {
   "cell_type": "code",
   "execution_count": 1,
   "metadata": {},
   "outputs": [],
   "source": [
    "import kfp.dsl as dsl\n",
    "import kfp.compiler as compiler\n",
    "import kfp"
   ]
  },
  {
   "cell_type": "markdown",
   "metadata": {},
   "source": [
    "## Flip Coin Pipeline "
   ]
  },
  {
   "cell_type": "code",
   "execution_count": 12,
   "metadata": {},
   "outputs": [],
   "source": [
    "import kfp.dsl as dsl\n",
    "\n",
    "\n",
    "class RandomNumOp(dsl.ContainerOp):\n",
    "  \"\"\"Generate a random number between low and high.\"\"\"\n",
    "\n",
    "  def __init__(self, low, high):\n",
    "    super(RandomNumOp, self).__init__(\n",
    "      name='Random number',\n",
    "      image='python:alpine3.6',\n",
    "      command=['sh', '-c'],\n",
    "      arguments=['python -c \"import random; print(random.randint(%s,%s))\" | tee /tmp/output' % (low, high)],\n",
    "      file_outputs={'output': '/tmp/output'})\n",
    "\n",
    "\n",
    "class FlipCoinOp(dsl.ContainerOp):\n",
    "  \"\"\"Flip a coin and output heads or tails randomly.\"\"\"\n",
    "\n",
    "  def __init__(self):\n",
    "    super(FlipCoinOp, self).__init__(\n",
    "      name='Flip',\n",
    "      image='python:alpine3.6',\n",
    "      command=['sh', '-c'],\n",
    "      arguments=['python -c \"import random; result = \\'heads\\' if random.randint(0,1) == 0 '\n",
    "                 'else \\'tails\\'; print(result)\" | tee /tmp/output'],\n",
    "      file_outputs={'output': '/tmp/output'})\n",
    "\n",
    "\n",
    "class PrintOp(dsl.ContainerOp):\n",
    "  \"\"\"Print a message.\"\"\"\n",
    "\n",
    "  def __init__(self, msg):\n",
    "    super(PrintOp, self).__init__(\n",
    "      name='Print',\n",
    "      image='alpine:3.6',\n",
    "      command=['echo', msg],\n",
    "  )\n",
    "    \n",
    "\n",
    "@dsl.pipeline(\n",
    "  name='pipeline flip coin',\n",
    "  description='shows how to use dsl.Condition.'\n",
    ")\n",
    "def flipcoin():\n",
    "  flip = FlipCoinOp()\n",
    "  with dsl.Condition(flip.output == 'heads'):\n",
    "    random_num_head = RandomNumOp(0, 9)\n",
    "    with dsl.Condition(random_num_head.output > 5):\n",
    "      PrintOp('heads and %s > 5!' % random_num_head.output)\n",
    "    with dsl.Condition(random_num_head.output <= 5):\n",
    "      PrintOp('heads and %s <= 5!' % random_num_head.output)\n",
    "\n",
    "  with dsl.Condition(flip.output == 'tails'):\n",
    "    random_num_tail = RandomNumOp(10, 19)\n",
    "    with dsl.Condition(random_num_tail.output > 15):\n",
    "      PrintOp('tails and %s > 15!' % random_num_tail.output)\n",
    "    with dsl.Condition(random_num_tail.output <= 15):\n",
    "      PrintOp('tails and %s <= 15!' % random_num_tail.output)\n",
    "\n",
    "\n",
    "if __name__ == '__main__':\n",
    "  import kfp.compiler as compiler\n",
    "  compiler.Compiler().compile(flipcoin, 'flip_coin4' + '.tar.gz')"
   ]
  },
  {
   "cell_type": "code",
   "execution_count": 13,
   "metadata": {},
   "outputs": [],
   "source": [
    "client = kfp.Client()"
   ]
  },
  {
   "cell_type": "code",
   "execution_count": 14,
   "metadata": {},
   "outputs": [
    {
     "data": {
      "text/plain": [
       "{'experiments': [{'created_at': datetime.datetime(2019, 3, 14, 12, 56, tzinfo=tzlocal()),\n",
       "                  'description': None,\n",
       "                  'id': 'ca327eef-3dea-45f1-8b17-3617ce175b4d',\n",
       "                  'name': 'dorons'},\n",
       "                 {'created_at': datetime.datetime(2019, 3, 23, 12, 39, 16, tzinfo=tzlocal()),\n",
       "                  'description': None,\n",
       "                  'id': 'ca903941-7b9a-43c7-8fdb-0f68dce80fa5',\n",
       "                  'name': 'Run Flip Coins'}],\n",
       " 'next_page_token': None,\n",
       " 'total_size': None}"
      ]
     },
     "execution_count": 14,
     "metadata": {},
     "output_type": "execute_result"
    }
   ],
   "source": [
    "client.list_experiments()"
   ]
  },
  {
   "cell_type": "code",
   "execution_count": 16,
   "metadata": {},
   "outputs": [
    {
     "data": {
      "text/html": [
       "Run link <a href=\"/pipeline/#/runs/details/7c6db2ed-4f1d-11e9-8662-42010a8000f7\" target=\"_blank\" >here</a>"
      ],
      "text/plain": [
       "<IPython.core.display.HTML object>"
      ]
     },
     "metadata": {},
     "output_type": "display_data"
    },
    {
     "data": {
      "text/html": [
       "Run link <a href=\"/pipeline/#/runs/details/7c805a6e-4f1d-11e9-8662-42010a8000f7\" target=\"_blank\" >here</a>"
      ],
      "text/plain": [
       "<IPython.core.display.HTML object>"
      ]
     },
     "metadata": {},
     "output_type": "display_data"
    },
    {
     "data": {
      "text/html": [
       "Run link <a href=\"/pipeline/#/runs/details/7c909dfb-4f1d-11e9-8662-42010a8000f7\" target=\"_blank\" >here</a>"
      ],
      "text/plain": [
       "<IPython.core.display.HTML object>"
      ]
     },
     "metadata": {},
     "output_type": "display_data"
    }
   ],
   "source": [
    "for i in range(3):\n",
    "    client.run_pipeline(experiment_id='ca327eef-3dea-45f1-8b17-3617ce175b4d',\n",
    "                    job_name='run_B_{}'.format(i),\n",
    "                    pipeline_package_path='flip_coin4.tar.gz')"
   ]
  },
  {
   "cell_type": "code",
   "execution_count": 17,
   "metadata": {},
   "outputs": [
    {
     "data": {
      "text/plain": [
       "{'experiments': [{'created_at': datetime.datetime(2019, 3, 14, 12, 56, tzinfo=tzlocal()),\n",
       "                  'description': None,\n",
       "                  'id': 'ca327eef-3dea-45f1-8b17-3617ce175b4d',\n",
       "                  'name': 'dorons'},\n",
       "                 {'created_at': datetime.datetime(2019, 3, 23, 12, 39, 16, tzinfo=tzlocal()),\n",
       "                  'description': None,\n",
       "                  'id': 'ca903941-7b9a-43c7-8fdb-0f68dce80fa5',\n",
       "                  'name': 'Run Flip Coins'}],\n",
       " 'next_page_token': None,\n",
       " 'total_size': None}"
      ]
     },
     "execution_count": 17,
     "metadata": {},
     "output_type": "execute_result"
    }
   ],
   "source": [
    "client.list_experiments()"
   ]
  },
  {
   "cell_type": "code",
   "execution_count": null,
   "metadata": {},
   "outputs": [],
   "source": []
  }
 ],
 "metadata": {
  "kernelspec": {
   "display_name": "Python 3",
   "language": "python",
   "name": "python3"
  },
  "language_info": {
   "codemirror_mode": {
    "name": "ipython",
    "version": 3
   },
   "file_extension": ".py",
   "mimetype": "text/x-python",
   "name": "python",
   "nbconvert_exporter": "python",
   "pygments_lexer": "ipython3",
   "version": "3.6.4"
  }
 },
 "nbformat": 4,
 "nbformat_minor": 2
}
